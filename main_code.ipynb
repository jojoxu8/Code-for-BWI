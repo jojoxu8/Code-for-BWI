{
 "cells": [
  {
   "cell_type": "markdown",
   "metadata": {},
   "source": [
    "# Code for BWI\n",
    "#### Code & Win Challenge by Get in IT\n",
    "## Nutzenmaximierung der ersten Fahrt nach Bonn mit 2 Transporter\n",
    "\n",
    "<img src=\"transporter2.png\" alt=\"split-apply-combine\" style=\"width: 600px;\"/>"
   ]
  },
  {
   "cell_type": "code",
   "execution_count": 1,
   "metadata": {},
   "outputs": [],
   "source": [
    "import numpy as np\n",
    "import pandas as pd\n",
    "import matplotlib.pyplot as plt"
   ]
  },
  {
   "cell_type": "markdown",
   "metadata": {},
   "source": [
    "## Dataframe erstellen"
   ]
  },
  {
   "cell_type": "code",
   "execution_count": 2,
   "metadata": {},
   "outputs": [],
   "source": [
    "name = [\"Notebook Büro 13\", \"Notebook Büro 14\", \"Notebook outdoor\", \"Mobiltelefon Büro\", \n",
    "        \"Mobiltelefon Outdoor\", \"Mobiltelefon Heavy Duty\", \"Tablet Büro klein\", \"Tablet Büro groß\", \n",
    "        \"Tablet outdoor klein\", \"Tablet outdoor groß\"]\n",
    "anzahl = [205, 420, 450, 60, 157, 220, 620, 250, 540, 370]\n",
    "gewicht = [2451, 2978, 3625, 717, 988, 1220, 1405, 1455, 1690, 1980]\n",
    "nutzen = [40, 35, 80, 30, 60, 65, 40, 40, 45, 68]\n",
    "df = pd.DataFrame({'name':name, 'anzahl':anzahl, \"gewicht\":gewicht, \"nutzen\":nutzen})"
   ]
  },
  {
   "cell_type": "code",
   "execution_count": 20,
   "metadata": {},
   "outputs": [
    {
     "data": {
      "text/plain": [
       "array([1027600., 1014300.])"
      ]
     },
     "execution_count": 20,
     "metadata": {},
     "output_type": "execute_result"
    }
   ],
   "source": [
    "fahrer = np.array([72.4, 85.7])\n",
    "max_kap = (np.array([1100, 1100]) - fahrer)*1000\n",
    "max_kap"
   ]
  },
  {
   "cell_type": "markdown",
   "metadata": {},
   "source": [
    "## Funktion zum Beladen der Transporter\n",
    "\n",
    "Beschreibung:\n",
    "\n",
    "Als input wird der Funktion ein Pandas-Dataframe mit name, anzahl, gewicht und nutzen sowie die zwei Beladungskapazitäten für die Transporter in Gramm (abgezogen die Fahrer) gegeben. Da der Nutzen maximiert werden soll, wird ein score berechnet, der den Nutzen des Objekts pro Gramm wiedergibt. Gemessen an diesem Score werden die Objekte mit dem größten Nutzen pro Gramm als erstes in die Transporter geladen. Da die Nutzen unabhängig voneinander sind, ergeben sich keine Abhängigkeiten (wie zum Beispiel dass sich der Nutzen eines Tablets erhöhen könnte, wenn ein Mobiltelefon dabei ist), und es werden alle Objekte einer Kategorie jeweils geladen, bis die Anzahl erfüllt ist. Die Transporter werden dabei abwechselnd beladen, damit nicht ein Transporter mit leichteren Gegenständen gefüllt ist und im zweiten Platz übrig bleibt, da kein schwerer Gegenstand mehr reinpasst. "
   ]
  },
  {
   "cell_type": "code",
   "execution_count": 30,
   "metadata": {},
   "outputs": [],
   "source": [
    "#Inuput structure: (dataframe[\"name\", \"anzahl\" nutzen\", \"gewicht\"], [capacity_transporter1, capacity_transporter2])\n",
    "\n",
    "def loading_strategy(df, max_kap):\n",
    "    # Calculate a score for utility per gramm\n",
    "    df[\"score\"] = df[\"nutzen\"]/df[\"gewicht\"]\n",
    "    # Sort the dataframe according to the value the object has per gramm\n",
    "    df = df.sort_values(by=['score'], ascending = False).reset_index(drop=True)\n",
    "\n",
    "    ######### prepare parameters ############\n",
    "    # Both transporters are empty at the beginning (status = ok)\n",
    "    status1 = \"ok\"\n",
    "    status2 = \"ok\"\n",
    "    ladung1 = 0\n",
    "    ladung2 = 0\n",
    "    nutzen = 0\n",
    "    obj = []\n",
    "    num1 = []\n",
    "    num2 = []\n",
    "    \n",
    "    ######### Start loading transporter ############ \n",
    "    for i in np.arange(len(df)):\n",
    "        anzahl = df[\"anzahl\"][i] # get number of ojects needed in Bonn\n",
    "        if anzahl == 0:\n",
    "            pass\n",
    "        obj.append(df[\"name\"][i])\n",
    "        num1.append(0)\n",
    "        num2.append(0)\n",
    "        \n",
    "        for e in np.arange(anzahl):\n",
    "            # To use space in both transporter efficiently, start loading transporter 1 and transporter 2 alternately\n",
    "            if (((e+1) % 2) == 0) and (status1 == \"ok\"):\n",
    "                ladung1 += df[\"gewicht\"][i]\n",
    "                num1[i] +=1\n",
    "                if ladung1 >= max_kap[0]:\n",
    "                    print(\"Transport1 full\")\n",
    "                    status1 = \"full\"\n",
    "                    ladung1 -= df[\"gewicht\"][i]\n",
    "                    num1[i] -= 1\n",
    "            elif (((e+1) % 2) != 0) and (status2 == \"ok\"):\n",
    "                ladung2 += df[\"gewicht\"][i]\n",
    "                num2[i] +=1 \n",
    "                if ladung2 >= max_kap[1]:\n",
    "                    status2 = \"full\"\n",
    "                    print(\"Transport2 full\")\n",
    "                    ladung2 -= df[\"gewicht\"][i]\n",
    "                    num2[i] -= 1\n",
    "                    \n",
    "            # If transporter 1 is full, try if there is still space in transporter 2\n",
    "            elif (status1 == \"full\") and (status2 == \"ok\"):\n",
    "                ladung2 += df[\"gewicht\"][i]\n",
    "                num2[i] +=1 \n",
    "                if ladung2 >= max_kap[1]:\n",
    "                    status2 = \"full\"\n",
    "                    ladung2 -= df[\"gewicht\"][i]\n",
    "                    num2[i] -= 1\n",
    "            # If first transporter 2 is full, try if there is still space in transporter 1\n",
    "            elif (status1 == \"ok\") and (status2 == \"full\"):\n",
    "                ladung1 += df[\"gewicht\"][i]\n",
    "                num1[i] +=1 \n",
    "                if ladung1 >= max_kap[0]:\n",
    "                    status1 = \"full\"\n",
    "                    ladung1 -= df[\"gewicht\"][i]\n",
    "                    num1[i] -= 1\n",
    "            # If both are full, no more objects can be loaded\n",
    "            elif (status1 == \"full\") and (status2 == \"full\"):\n",
    "                print(\"Transport 1 und 2 full\")\n",
    "                break\n",
    "    result = pd.DataFrame({'obj':obj, \"transporter1\":num1, \"transporter2\":num2, \"nutzen\":df[\"nutzen\"]})\n",
    "    result[\"sum_nutzen\"] = (result[\"transporter1\"]+result[\"transporter2\"])*result[\"nutzen\"]\n",
    "    return result, ladung1, ladung2"
   ]
  },
  {
   "cell_type": "markdown",
   "metadata": {},
   "source": [
    "## Test der Funktion mit den gegebenen Daten"
   ]
  },
  {
   "cell_type": "code",
   "execution_count": 29,
   "metadata": {},
   "outputs": [
    {
     "name": "stdout",
     "output_type": "stream",
     "text": [
      "Transport2 full\n",
      "Transport 1 und 2 full\n",
      "Transport 1 und 2 full\n",
      "Transport 1 und 2 full\n",
      "Transport 1 und 2 full\n",
      "Transport 1 und 2 full\n",
      "Transport 1 und 2 full\n"
     ]
    }
   ],
   "source": [
    "result, ladung1, ladung2 = loading_strategy(df, max_kap)"
   ]
  },
  {
   "cell_type": "code",
   "execution_count": 23,
   "metadata": {},
   "outputs": [
    {
     "name": "stdout",
     "output_type": "stream",
     "text": [
      "Der erreichte Nutzen durch das Beladen nach dem Algorithmus beträgt 74640\n"
     ]
    }
   ],
   "source": [
    "nutzen = result[\"sum_nutzen\"].sum()\n",
    "print(\"Der erreichte Nutzen durch das Beladen nach dem Algorithmus beträgt\", nutzen) #74640"
   ]
  },
  {
   "cell_type": "code",
   "execution_count": 31,
   "metadata": {},
   "outputs": [
    {
     "data": {
      "text/html": [
       "<div>\n",
       "<style scoped>\n",
       "    .dataframe tbody tr th:only-of-type {\n",
       "        vertical-align: middle;\n",
       "    }\n",
       "\n",
       "    .dataframe tbody tr th {\n",
       "        vertical-align: top;\n",
       "    }\n",
       "\n",
       "    .dataframe thead th {\n",
       "        text-align: right;\n",
       "    }\n",
       "</style>\n",
       "<table border=\"1\" class=\"dataframe\">\n",
       "  <thead>\n",
       "    <tr style=\"text-align: right;\">\n",
       "      <th></th>\n",
       "      <th>obj</th>\n",
       "      <th>transporter1</th>\n",
       "      <th>transporter2</th>\n",
       "      <th>nutzen</th>\n",
       "      <th>sum_nutzen</th>\n",
       "    </tr>\n",
       "  </thead>\n",
       "  <tbody>\n",
       "    <tr>\n",
       "      <th>0</th>\n",
       "      <td>Mobiltelefon Outdoor</td>\n",
       "      <td>78</td>\n",
       "      <td>79</td>\n",
       "      <td>60</td>\n",
       "      <td>9420</td>\n",
       "    </tr>\n",
       "    <tr>\n",
       "      <th>1</th>\n",
       "      <td>Mobiltelefon Heavy Duty</td>\n",
       "      <td>110</td>\n",
       "      <td>110</td>\n",
       "      <td>65</td>\n",
       "      <td>14300</td>\n",
       "    </tr>\n",
       "    <tr>\n",
       "      <th>2</th>\n",
       "      <td>Mobiltelefon Büro</td>\n",
       "      <td>30</td>\n",
       "      <td>30</td>\n",
       "      <td>30</td>\n",
       "      <td>1800</td>\n",
       "    </tr>\n",
       "    <tr>\n",
       "      <th>3</th>\n",
       "      <td>Tablet outdoor groß</td>\n",
       "      <td>185</td>\n",
       "      <td>185</td>\n",
       "      <td>68</td>\n",
       "      <td>25160</td>\n",
       "    </tr>\n",
       "    <tr>\n",
       "      <th>4</th>\n",
       "      <td>Tablet Büro klein</td>\n",
       "      <td>305</td>\n",
       "      <td>294</td>\n",
       "      <td>40</td>\n",
       "      <td>23960</td>\n",
       "    </tr>\n",
       "    <tr>\n",
       "      <th>5</th>\n",
       "      <td>Tablet Büro groß</td>\n",
       "      <td>0</td>\n",
       "      <td>0</td>\n",
       "      <td>40</td>\n",
       "      <td>0</td>\n",
       "    </tr>\n",
       "    <tr>\n",
       "      <th>6</th>\n",
       "      <td>Tablet outdoor klein</td>\n",
       "      <td>0</td>\n",
       "      <td>0</td>\n",
       "      <td>45</td>\n",
       "      <td>0</td>\n",
       "    </tr>\n",
       "    <tr>\n",
       "      <th>7</th>\n",
       "      <td>Notebook outdoor</td>\n",
       "      <td>0</td>\n",
       "      <td>0</td>\n",
       "      <td>80</td>\n",
       "      <td>0</td>\n",
       "    </tr>\n",
       "    <tr>\n",
       "      <th>8</th>\n",
       "      <td>Notebook Büro 13</td>\n",
       "      <td>0</td>\n",
       "      <td>0</td>\n",
       "      <td>40</td>\n",
       "      <td>0</td>\n",
       "    </tr>\n",
       "    <tr>\n",
       "      <th>9</th>\n",
       "      <td>Notebook Büro 14</td>\n",
       "      <td>0</td>\n",
       "      <td>0</td>\n",
       "      <td>35</td>\n",
       "      <td>0</td>\n",
       "    </tr>\n",
       "  </tbody>\n",
       "</table>\n",
       "</div>"
      ],
      "text/plain": [
       "                       obj  transporter1  transporter2  nutzen  sum_nutzen\n",
       "0     Mobiltelefon Outdoor            78            79      60        9420\n",
       "1  Mobiltelefon Heavy Duty           110           110      65       14300\n",
       "2        Mobiltelefon Büro            30            30      30        1800\n",
       "3      Tablet outdoor groß           185           185      68       25160\n",
       "4        Tablet Büro klein           305           294      40       23960\n",
       "5         Tablet Büro groß             0             0      40           0\n",
       "6     Tablet outdoor klein             0             0      45           0\n",
       "7         Notebook outdoor             0             0      80           0\n",
       "8         Notebook Büro 13             0             0      40           0\n",
       "9         Notebook Büro 14             0             0      35           0"
      ]
     },
     "execution_count": 31,
     "metadata": {},
     "output_type": "execute_result"
    }
   ],
   "source": [
    "result"
   ]
  },
  {
   "cell_type": "markdown",
   "metadata": {},
   "source": [
    "## Visualisierung"
   ]
  },
  {
   "cell_type": "code",
   "execution_count": 16,
   "metadata": {},
   "outputs": [],
   "source": [
    "labels = [\"Mobiltelefon Outdoor\", \"Mobiltelefon Heavy Duty\", \"Mobiltelefon Büro\", \"Tablet outdoor groß\", \n",
    "        \"Tablet Büro klein\"]\n",
    "x = np.arange(len(labels)) "
   ]
  },
  {
   "cell_type": "code",
   "execution_count": 17,
   "metadata": {},
   "outputs": [
    {
     "data": {
      "text/plain": [
       "<matplotlib.legend.Legend at 0x19385b965c8>"
      ]
     },
     "execution_count": 17,
     "metadata": {},
     "output_type": "execute_result"
    },
    {
     "data": {
      "image/png": "[encoded data removed]",
      "text/plain": [
       "<Figure size 432x288 with 1 Axes>"
      ]
     },
     "metadata": {
      "needs_background": "light"
     },
     "output_type": "display_data"
    }
   ],
   "source": [
    "ax = plt.subplot(111)\n",
    "ax.bar(x - 0.5,result[\"transporter1\"][:5], 0.5, align='center',label='Transporter 1')\n",
    "ax.bar(x ,result[\"transporter2\"][:5], 0.5, align='center', label='Transporter 2')\n",
    "plt.xticks(rotation=45)\n",
    "ax.set_xticklabels(labels)\n",
    "ax.set_title(r'Transporter loadings', fontsize=14)\n",
    "ax.legend()"
   ]
  },
  {
   "cell_type": "code",
   "execution_count": 10,
   "metadata": {},
   "outputs": [
    {
     "data": {
      "image/png": "[encoded data removed]",
      "text/plain": [
       "<Figure size 432x288 with 1 Axes>"
      ]
     },
     "metadata": {},
     "output_type": "display_data"
    }
   ],
   "source": [
    "labels = 'Used space', 'Lost space'\n",
    "sizes = [ladung2+ladung1, max_kap.sum()-ladung2-ladung1]\n",
    "explode = (0, 0.1)  # only \"explode\" the 2nd slice (i.e. 'Hogs')\n",
    "\n",
    "fig1, ax1 = plt.subplots()\n",
    "ax1.pie(sizes, explode=explode, labels=labels, autopct='%1.1f%%',\n",
    "        shadow=True, startangle=0)\n",
    "ax1.axis('equal')  # Equal aspect ratio ensures that pie is drawn as a circle.\n",
    "ax1.set_title(r'Used capacity for both transporters', fontsize=14)\n",
    "plt.show()"
   ]
  }
 ],
 "metadata": {
  "kernelspec": {
   "display_name": "Python 3",
   "language": "python",
   "name": "python3"
  },
  "language_info": {
   "codemirror_mode": {
    "name": "ipython",
    "version": 3
   },
   "file_extension": ".py",
   "mimetype": "text/x-python",
   "name": "python",
   "nbconvert_exporter": "python",
   "pygments_lexer": "ipython3",
   "version": "3.7.4"
  }
 },
 "nbformat": 4,
 "nbformat_minor": 4
}
